{
 "cells": [
  {
   "cell_type": "code",
   "execution_count": null,
   "metadata": {},
   "outputs": [],
   "source": [
    "from xml.etree.ElementTree import parse\n",
    "import os\n",
    "import cv2\n",
    "import csv"
   ]
  },
  {
   "cell_type": "code",
   "execution_count": 44,
   "metadata": {},
   "outputs": [],
   "source": [
    "path = '../data/assignment/train'\n",
    "save_path = '../data/assignment/preprocessed_train'\n",
    "\n",
    "f = open(f'{path}/write.csv','a', newline='')\n",
    "wr = csv.writer(f)\n",
    "wr.writerow(['id','class'])\n",
    "\n",
    "f.close()\n",
    "\n",
    "def return_emotion(emotion):\n",
    "    try :\n",
    "        if emotion=='neutral':\n",
    "            return 0\n",
    "        elif emotion == 'anger':\n",
    "            return 1\n",
    "        elif emotion =='surprise':\n",
    "            return 2\n",
    "        elif emotion =='smile':\n",
    "            return 3\n",
    "        elif emotion == 'sad':\n",
    "            return 4\n",
    "        else:\n",
    "            raise Exception('out of emotion range')\n",
    "    except Exception as e:\n",
    "        print(f'{emotion} makes error')\n",
    "    "
   ]
  },
  {
   "cell_type": "code",
   "execution_count": null,
   "metadata": {},
   "outputs": [],
   "source": [
    "annotations = os.listdir(f'{path}/annotations')\n",
    "num = 0\n",
    "for xml in annotations:\n",
    "    print(f'File name is {xml}')\n",
    "    tree = parse(f'{path}/annotations/{xml}')\n",
    "    img_name = xml[0:-4]\n",
    "    img = cv2.imread(f'{path}/img/{img_name}.jpg',cv2.IMREAD_COLOR)\n",
    "    if img is None:\n",
    "        img = cv2.imread(f'{path}/img/{img_name}.JPG',cv2.IMREAD_COLOR)\n",
    "    root = tree.getroot()\n",
    "    faces = root.findall('object')\n",
    "    print(img_name)\n",
    "    info = []\n",
    "    \n",
    "    for x in faces:\n",
    "        li = [num]\n",
    "        emotion = x.findtext('name')\n",
    "        li.append(return_emotion(emotion))\n",
    "\n",
    "        box = x.find('bndbox')\n",
    "        xmin = int(box.findtext('xmin'))\n",
    "        ymin = int(box.findtext('ymin'))\n",
    "        xmax = int(box.findtext('xmax'))\n",
    "        ymax = int(box.findtext('ymax'))\n",
    "\n",
    "        cv2.imwrite(f'{save_path}/{num}.jpg',img[ymin:ymax,xmin:xmax])\n",
    "\n",
    "        f = open(f'{path}/write.csv','a', newline='')\n",
    "        wr = csv.writer(f)\n",
    "        wr.writerow(li)\n",
    "\n",
    "        f.close()\n",
    "    \n",
    "        num+=1\n",
    "        print(f'{num}is fin')"
   ]
  },
  {
   "cell_type": "code",
   "execution_count": 60,
   "metadata": {},
   "outputs": [
    {
     "name": "stdout",
     "output_type": "stream",
     "text": [
      "fin\n"
     ]
    }
   ],
   "source": [
    "print('fin')"
   ]
  },
  {
   "cell_type": "code",
   "execution_count": null,
   "metadata": {},
   "outputs": [],
   "source": [
    "\n"
   ]
  }
 ],
 "metadata": {
  "kernelspec": {
   "display_name": "Python 3",
   "language": "python",
   "name": "python3"
  },
  "language_info": {
   "codemirror_mode": {
    "name": "ipython",
    "version": 3
   },
   "file_extension": ".py",
   "mimetype": "text/x-python",
   "name": "python",
   "nbconvert_exporter": "python",
   "pygments_lexer": "ipython3",
   "version": "3.6.10"
  }
 },
 "nbformat": 4,
 "nbformat_minor": 4
}
